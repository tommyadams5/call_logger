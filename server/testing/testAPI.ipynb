{
 "cells": [
  {
   "cell_type": "code",
   "execution_count": 2,
   "metadata": {},
   "outputs": [],
   "source": [
    "import json\n",
    "import requests"
   ]
  },
  {
   "cell_type": "code",
   "execution_count": 34,
   "metadata": {},
   "outputs": [],
   "source": [
    "host = \"https://call-logger.fly.dev\"\n",
    "headers = {\"Content-Type\": \"application/json\"}\n",
    "docs1 =[host + x for x in [\"/samples/gen1_20240316_104111.txt\", \"/samples/gen2_20240317_104111.txt\", \"/samples/gen3_20240318_104111.txt\", \"/samples/gen4_20240319_104111.txt\"]]\n",
    "docs2 = [host + x for x in [\"/samples/sample1_20240316_104111.txt\", \"/samples/sample2_20240317_104111.txt\", \"/samples/sample3_20240318_104111.txt\", \"/samples/sample4_20240319_104111.txt\"]]\n",
    "q1 = \"What are our product design decisions?\"\n",
    "url1 = host + \"/submit_question_and_documents\"\n",
    "url2 = host + \"/get_question_and_facts\""
   ]
  },
  {
   "cell_type": "code",
   "execution_count": 35,
   "metadata": {},
   "outputs": [],
   "source": [
    "def runAPI(question, documents, url, autoApprove=False):\n",
    "    data = {\"question\": question, \"documents\": documents, \"autoApprove\":autoApprove}\n",
    "    res = requests.post(url, json=data)\n",
    "    return res"
   ]
  },
  {
   "cell_type": "code",
   "execution_count": 47,
   "metadata": {},
   "outputs": [
    {
     "data": {
      "text/plain": [
       "<Response [200]>"
      ]
     },
     "execution_count": 47,
     "metadata": {},
     "output_type": "execute_result"
    }
   ],
   "source": [
    "runAPI(q1,docs2, url1, True)"
   ]
  },
  {
   "cell_type": "code",
   "execution_count": 52,
   "metadata": {},
   "outputs": [],
   "source": [
    "res = requests.get(url2)"
   ]
  },
  {
   "cell_type": "code",
   "execution_count": 53,
   "metadata": {},
   "outputs": [
    {
     "data": {
      "text/plain": [
       "{}"
      ]
     },
     "execution_count": 53,
     "metadata": {},
     "output_type": "execute_result"
    }
   ],
   "source": [
    "res.json()"
   ]
  },
  {
   "cell_type": "code",
   "execution_count": null,
   "metadata": {},
   "outputs": [],
   "source": []
  }
 ],
 "metadata": {
  "kernelspec": {
   "display_name": "base",
   "language": "python",
   "name": "python3"
  },
  "language_info": {
   "codemirror_mode": {
    "name": "ipython",
    "version": 3
   },
   "file_extension": ".py",
   "mimetype": "text/x-python",
   "name": "python",
   "nbconvert_exporter": "python",
   "pygments_lexer": "ipython3",
   "version": "3.11.5"
  }
 },
 "nbformat": 4,
 "nbformat_minor": 2
}
